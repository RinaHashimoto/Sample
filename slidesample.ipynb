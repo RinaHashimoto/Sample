{
 "cells": [
  {
   "cell_type": "markdown",
   "metadata": {
    "slideshow": {
     "slide_type": "slide"
    }
   },
   "source": [
    "<h1>卒論進捗報告</h1>\n",
    "11月16日"
   ]
  },
  {
   "cell_type": "markdown",
   "metadata": {
    "slideshow": {
     "slide_type": "slide"
    }
   },
   "source": [
    "<h1>経過報告</h1>\n",
    "ボツになりかけている…。\n",
    "\n",
    "隣接行列を"
   ]
  },
  {
   "cell_type": "markdown",
   "metadata": {
    "slideshow": {
     "slide_type": "slide"
    }
   },
   "source": [
    "<h1>隣接行列の再帰的定義</h1>\n",
    "\n",
    "コインが$k$枚のときの隣接行列を$A_{k}$とし、$r = 2^{k-1}$とおく$(k \\geq 2)$\n",
    "$$\n",
    "A_{k} = \\left\\{ \\begin{array}{ll}\n",
    "a_{k\\ i\\ j} = a_{k-1\\ i\\ j} & (0 \\leq i, j \\leq r - 1), \\\\\n",
    "a_{i+r\\ j+r} = a_{i\\ j} & (0 \\leq i, j \\leq r - 1), \\\\\n",
    "a_{i+r\\ j} = a_{i\\ j} & (\\frac{r}{2} \\leq i, \\leq r - 1, 0 \\leq  j \\leq \\frac{r}{2} - 1), \\\\\n",
    "a_{i+\\frac{r}{2}\\ j+\\frac{r}{2}} = a_{i\\ j} & (\\frac{r}{2} \\leq i, \\leq r - 1, 0 \\leq  j \\leq \\frac{r}{2} - 1), \\\\\n",
    "a_{i+r\\ i} = 1 & (0 \\leq i \\leq r-1)\n",
    "\\end{array} \\right.\n",
    "$$\n",
    "\n",
    "$k = 1$のときは$A_{1} =\\left(\n",
    "    \\begin{array}{cc}\n",
    "      0 & 0 \\\\\n",
    "      1 & 0\n",
    "    \\end{array}\n",
    "  \\right)$\n"
   ]
  }
 ],
 "metadata": {
  "celltoolbar": "Slideshow",
  "kernelspec": {
   "display_name": "Python 3",
   "language": "python",
   "name": "python3"
  },
  "language_info": {
   "codemirror_mode": {
    "name": "ipython",
    "version": 3
   },
   "file_extension": ".py",
   "mimetype": "text/x-python",
   "name": "python",
   "nbconvert_exporter": "python",
   "pygments_lexer": "ipython3",
   "version": "3.6.1"
  }
 },
 "nbformat": 4,
 "nbformat_minor": 2
}
